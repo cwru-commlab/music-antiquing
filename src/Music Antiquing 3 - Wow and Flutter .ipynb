{
 "cells": [
  {
   "cell_type": "markdown",
   "id": "1fe71a07-b833-400d-ace0-68bf27b5f85c",
   "metadata": {},
   "source": [
    "# Music  Antiquing, Part 3 — ECSE 351, Spring 2025\n",
    "\n",
    "This is the third part of the Music Antiquing exercise. Over the course of the semester, we'll use Python to add effects to a sound clip to make it sound like it's playing on a gramophone. Here's where the goalposts are: https://youtu.be/QbsXLDNPvNc?t=28 \n",
    "\n",
    "<iframe width=\"1191\" height=\"670\" src=\"https://www.youtube.com/embed/kCwRdrFtJuE\" title=\"&quot;What do wow and flutter sound like?&quot;\" frameborder=\"0\" allow=\"accelerometer; autoplay; clipboard-write; encrypted-media; gyroscope; picture-in-picture; web-share\" referrerpolicy=\"strict-origin-when-cross-origin\" allowfullscreen></iframe>\n",
    "\n",
    "In Part 1 for this exercise: music or a sound sample of your choice, filtered to a gramophone channel (160 Hz to 2000 Hz).\n",
    "In Part 2, we normalizee the signal and add Gaussian noise.\n",
    "\n",
    "In this exercise, we'll add FM modulation. We can use this to approximate two sorts of FM noise found in record players and tape decks: wow and flutter. "
   ]
  },
  {
   "cell_type": "code",
   "execution_count": null,
   "id": "e566a5bc-9ace-4919-9d64-dc881de23d7a",
   "metadata": {},
   "outputs": [],
   "source": [
    "from IPython.display import YouTubeVideo\n",
    "\n",
    "YouTubeVideo('kCwRdrFtJuE', width=800, height=300)"
   ]
  },
  {
   "cell_type": "markdown",
   "id": "6d33bc35-d583-4651-9e36-a7ec502766cb",
   "metadata": {},
   "source": [
    "## 📡 Assignment requirements\n",
    " - [X] Open the Jupyter notebook.\n",
    " - [ ] Upload your .wav file from the last assignment.\n",
    " - [ ] Run the example code.\n",
    " - [ ] Edit the code to produce the desired wow effect.\n",
    " - [ ] Optional: Adapt the code to add a flutter effect as well.\n",
    " - [ ] Optional: Save a local copy of the Jupyter notebook itself. (In Binder, your changes and created files will not be saved.)\n",
    " - [ ] Under \"File\" hit \"Save and Export Notebook As\" and save your file as a PDF.\n",
    " - [ ] Print the PDF and staple it to the homework\n",
    " - [ ] On the printed copy, highlight the changes you made to the code.\n",
    " - [ ] Explain what values you chose, and why.\n"
   ]
  },
  {
   "cell_type": "markdown",
   "id": "c9a8089d-a117-4f4e-bce5-10469f5f220b",
   "metadata": {},
   "source": [
    "First, we import necessary Python packages."
   ]
  },
  {
   "cell_type": "code",
   "execution_count": null,
   "id": "76f671e1-624d-4a9c-b010-93e097d64b84",
   "metadata": {},
   "outputs": [],
   "source": [
    "import numpy as np\n",
    "import matplotlib.pyplot as plt\n",
    "from scipy.io import wavfile\n",
    "import scipy.signal as signal\n",
    "from scipy.signal import butter, lfilter, freqz\n",
    "from IPython.display import Audio\n",
    "import requests"
   ]
  },
  {
   "cell_type": "markdown",
   "id": "bb88c2db-f585-474d-b3da-e144084d8dbd",
   "metadata": {},
   "source": [
    "## Play and Plot Original .WAV File\n",
    "### &#x1F4E1; Input your filename and ID here."
   ]
  },
  {
   "cell_type": "code",
   "execution_count": null,
   "id": "3508ef2a-b92e-41b9-a57a-1b3bb0e9988e",
   "metadata": {},
   "outputs": [],
   "source": [
    "ID = \"KD8OXT\" # Put your Case ID here.\n",
    "name = \"YOURNAMEHERE\"\n",
    "path = \"gramophone_\" + ID + \".wav\"\n",
    "\n",
    "# file = input(\"What is your filename?\")\n",
    "# ID = input(\"What is your Case ID?\")\n",
    "# name = input (\"Type your name here.\")"
   ]
  },
  {
   "cell_type": "markdown",
   "id": "7c9ecd24-9d8f-413d-8121-98cdd2d3c504",
   "metadata": {},
   "source": [
    "### Load a local .WAV file.\n",
    "\n",
    "Working in Google Collab or Binder? You should be able to open the file structure in the left sidebar and drag your file into it to upload.\n",
    "\n",
    "(Note: For the example here it's necessary to transpose the data with the .T operator in Line 6 of the following cell. That may or may not be necessary for your WAV file - if you get an error one way, try the other.) "
   ]
  },
  {
   "cell_type": "code",
   "execution_count": null,
   "id": "4f6505d1-91c7-42be-a221-429c851929e0",
   "metadata": {},
   "outputs": [],
   "source": [
    "# Load audio file\n",
    "fs, data = wavfile.read(path)\n",
    "# data = data[:,1] # Switch from stereo to mono"
   ]
  },
  {
   "cell_type": "markdown",
   "id": "2478fc23-99a7-4c85-99f5-66c8ded267f3",
   "metadata": {},
   "source": [
    "## Normalize signal"
   ]
  },
  {
   "cell_type": "code",
   "execution_count": null,
   "id": "fa86f972-be52-441e-ada5-f11d6dd4e65b",
   "metadata": {},
   "outputs": [],
   "source": [
    "data = data/max(data)"
   ]
  },
  {
   "cell_type": "code",
   "execution_count": null,
   "id": "68274e3c-9927-49f0-996f-b99ff9608fe9",
   "metadata": {},
   "outputs": [],
   "source": [
    "# Create and display the Audio object\n",
    "audio = Audio(data, rate=fs) #.\n",
    "display(audio)"
   ]
  },
  {
   "cell_type": "markdown",
   "id": "1158d8db-0ee8-4440-92d9-31f97b25f9a8",
   "metadata": {},
   "source": [
    "Let's plot the data. The signal is normalized now, so note the limits on the Y axis."
   ]
  },
  {
   "cell_type": "code",
   "execution_count": null,
   "id": "a7a90a68-8a11-4a55-9c26-4693d1e0b873",
   "metadata": {},
   "outputs": [],
   "source": [
    "plt.figure(figsize=(15, 6))\n",
    "plt.subplot(1, 2, 1)\n",
    "plt.plot(data)\n",
    "plt.title(\"Time Domain Plot by  \" + name)\n",
    "plt.subplot(1, 2, 2)\n",
    "plt.title(\"Spectrogram by  \" + name)\n",
    "plt.specgram(data)\n",
    "plt.show()"
   ]
  },
  {
   "cell_type": "markdown",
   "id": "a0ec1748-552c-408e-8043-ecacd1e10754",
   "metadata": {},
   "source": [
    "## FM Modulation Example\n",
    "Here's some example code that mimics MATLAB's fmmod command."
   ]
  },
  {
   "cell_type": "code",
   "execution_count": null,
   "id": "e1ed4c13-e49a-43e7-b888-ca58a959727c",
   "metadata": {},
   "outputs": [],
   "source": [
    "import numpy as np\n",
    "import matplotlib.pyplot as plt\n",
    "\n",
    "# Parameters\n",
    "t = np.arange(0, 5, 1/fs)  # Time vector (5 sec)\n",
    "fc = 440  # Carrier frequency\n",
    "freqdev = 50  # Frequency deviation (50 Hz)\n",
    "\n",
    "# Message signal (sinusoidal)\n",
    "x = np.cos(2 * np.pi * 10 * t)  # 10 Hz sinusoidal message signal\n",
    "\n",
    "# FM Modulation\n",
    "integral_of_x = np.cumsum(x) / fs  # Approximate the integral of the message signal\n",
    "y = np.cos(2 * np.pi * fc * t + 2 * np.pi * freqdev * integral_of_x) \n",
    "\n",
    "# Plot the results\n",
    "plt.figure(figsize=(10, 6))\n",
    "\n",
    "plt.subplot(2, 1, 1)\n",
    "plt.plot(t, x)\n",
    "plt.title('Message Signal')\n",
    "plt.xlabel('Time (s)')\n",
    "plt.ylabel('Amplitude')\n",
    "\n",
    "plt.subplot(2, 1, 2)\n",
    "plt.plot(t, y)\n",
    "plt.title('FM Modulated Signal')\n",
    "plt.xlabel('Time (s)')\n",
    "plt.ylabel('Amplitude')\n",
    "plt.xlim(0, .5) # just the first .5 seconds\n",
    "\n",
    "plt.tight_layout()\n",
    "plt.show()\n",
    "\n",
    "\n",
    "audio = Audio(y, rate=fs) #.\n",
    "display(audio)"
   ]
  },
  {
   "cell_type": "markdown",
   "id": "7234e82f-ae93-49ec-903a-f29f1b743d79",
   "metadata": {},
   "source": [
    "## Add FM Modulation to Audio Signal\n",
    "Add ``wow'' to the recording, simulating the 78 RPM shellac record being pressed off-center from the spindle hole.  **Why is this frequency modulation?**  Reasonable assumptions: centering error 1 mm, disk size 240 mm (hmm, does that matter?) **Highlight the values you used, and explain why.**"
   ]
  },
  {
   "cell_type": "code",
   "execution_count": null,
   "id": "834bc422-93db-476f-9f7c-14030f043f9f",
   "metadata": {},
   "outputs": [],
   "source": [
    "import numpy as np\n",
    "import matplotlib.pyplot as plt\n",
    "\n",
    "# Parameters\n",
    "# t = np.arange(0, 5, 1/fs)  # Time vector (5 sec)\n",
    "t = np.arange(0, len(data)/fs, 1/fs)  # Time vector (same duration as data vector)\n",
    "fc = 1.8  # Carrier frequency\n",
    "freqdev = 50  # Frequency deviation (50 Hz)\n",
    "\n",
    "# Message signal (sinusoidal)\n",
    "# x = np.cos(2 * np.pi * 10 * t)  # 10 Hz sinusoidal message signal\n",
    "x = data.copy()\n",
    "\n",
    "# FM Modulation\n",
    "integral_of_x = np.cumsum(x) / fs  # Approximate the integral of the message signal\n",
    "y = np.cos(2 * np.pi * fc * t + 2 * np.pi * freqdev * integral_of_x) \n",
    "\n",
    "# Plot the results\n",
    "plt.figure(figsize=(10, 6))\n",
    "\n",
    "plt.subplot(2, 1, 1)\n",
    "plt.plot(t, x)\n",
    "plt.title('Audio Signal: ' + name)\n",
    "plt.xlabel('Time (s)')\n",
    "plt.ylabel('Amplitude')\n",
    "\n",
    "plt.subplot(2, 1, 2)\n",
    "plt.plot(t, y)\n",
    "plt.title('FM Modulated Signal: ' + name)\n",
    "plt.xlabel('Time (s)')\n",
    "plt.ylabel('Amplitude')\n",
    "plt.xlim(0, 15) # just the first 5 seconds\n",
    "\n",
    "plt.tight_layout()\n",
    "plt.show()\n",
    "\n",
    "audio = Audio(y, rate=fs) #.\n",
    "display(audio)\n"
   ]
  },
  {
   "cell_type": "markdown",
   "id": "8d55e88e-ca2c-421b-a5c1-3385b9c13e8a",
   "metadata": {},
   "source": [
    "## ⭐ BONUS: Add flutter.\n",
    "For extra points, add a cell here and adapt the code above to add flutter to your recording as well."
   ]
  },
  {
   "cell_type": "code",
   "execution_count": null,
   "id": "a46bfb80-7b49-4699-8bbb-377185f2b9b2",
   "metadata": {},
   "outputs": [],
   "source": []
  },
  {
   "cell_type": "code",
   "execution_count": null,
   "id": "8400e99a-c982-46ae-b509-0b1e98afe80b",
   "metadata": {},
   "outputs": [],
   "source": [
    "wavfile.write(\"wow_\" + ID + \".wav\", fs, (y/min(y)).real.astype(np.float32))"
   ]
  }
 ],
 "metadata": {
  "kernelspec": {
   "display_name": "Python 3 (ipykernel)",
   "language": "python",
   "name": "python3"
  },
  "language_info": {
   "codemirror_mode": {
    "name": "ipython",
    "version": 3
   },
   "file_extension": ".py",
   "mimetype": "text/x-python",
   "name": "python",
   "nbconvert_exporter": "python",
   "pygments_lexer": "ipython3",
   "version": "3.9.1"
  }
 },
 "nbformat": 4,
 "nbformat_minor": 5
}
